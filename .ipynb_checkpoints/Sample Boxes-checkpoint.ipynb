{
 "cells": [
  {
   "cell_type": "markdown",
   "metadata": {},
   "source": [
    "a box"
   ]
  },
  {
   "cell_type": "markdown",
   "metadata": {},
   "source": [
    "[]"
   ]
  },
  {
   "cell_type": "markdown",
   "metadata": {},
   "source": [
    "a box filled with three boxes"
   ]
  },
  {
   "cell_type": "code",
   "execution_count": 2,
   "metadata": {},
   "outputs": [
    {
     "name": "stdout",
     "output_type": "stream",
     "text": [
      "+-------------+\n",
      "| +-+ +-+ +-+ |\n",
      "| | | | | | | |\n",
      "| +-+ +-+ +-+ |\n",
      "+-------------+\n",
      "\n"
     ]
    }
   ],
   "source": [
    "[- [] [] [] ]"
   ]
  },
  {
   "cell_type": "markdown",
   "metadata": {},
   "source": [
    "another box filled with three boxes"
   ]
  },
  {
   "cell_type": "code",
   "execution_count": 30,
   "metadata": {},
   "outputs": [
    {
     "name": "stdout",
     "output_type": "stream",
     "text": [
      "+-----+\n",
      "| +-+ |\n",
      "| | | |\n",
      "| +-+ |\n",
      "| +-+ |\n",
      "| | | |\n",
      "| +-+ |\n",
      "| +-+ |\n",
      "| | | |\n",
      "| +-+ |\n",
      "+-----+\n",
      "\n"
     ]
    }
   ],
   "source": [
    "[| [] [] [] ]"
   ]
  },
  {
   "cell_type": "markdown",
   "metadata": {},
   "source": [
    "How about three nested boxes? "
   ]
  },
  {
   "cell_type": "code",
   "execution_count": 4,
   "metadata": {},
   "outputs": [
    {
     "name": "stdout",
     "output_type": "stream",
     "text": [
      "+---------+\n",
      "| +-----+ |\n",
      "| | +-+ | |\n",
      "| | | | | |\n",
      "| | +-+ | |\n",
      "| +-----+ |\n",
      "+---------+\n",
      "\n"
     ]
    }
   ],
   "source": [
    "[^3]"
   ]
  },
  {
   "cell_type": "markdown",
   "metadata": {},
   "source": [
    "What if we could use numbers to multiply boxes?"
   ]
  },
  {
   "cell_type": "markdown",
   "metadata": {},
   "source": [
    "[- 3[^3] ]"
   ]
  },
  {
   "cell_type": "markdown",
   "metadata": {},
   "source": [
    "Let's back up again..."
   ]
  },
  {
   "cell_type": "code",
   "execution_count": 6,
   "metadata": {},
   "outputs": [
    {
     "name": "stdout",
     "output_type": "stream",
     "text": [
      "+-------------+\n",
      "| +-+ +-+ +-+ |\n",
      "| | | | | | | |\n",
      "| +-+ +-+ +-+ |\n",
      "+-------------+\n",
      "\n"
     ]
    }
   ],
   "source": [
    "[- 3[] ]"
   ]
  },
  {
   "cell_type": "markdown",
   "metadata": {},
   "source": [
    "with me so far? "
   ]
  },
  {
   "cell_type": "code",
   "execution_count": 26,
   "metadata": {},
   "outputs": [
    {
     "name": "stdout",
     "output_type": "stream",
     "text": [
      "+-----+\n",
      "| +-+ |\n",
      "| | | |\n",
      "| +-+ |\n",
      "| +-+ |\n",
      "| | | |\n",
      "| +-+ |\n",
      "| +-+ |\n",
      "| | | |\n",
      "| +-+ |\n",
      "+-----+\n",
      "\n"
     ]
    }
   ],
   "source": [
    "[| 3[] ]"
   ]
  },
  {
   "cell_type": "markdown",
   "metadata": {},
   "source": [
    "You can nest the different types of layouts:"
   ]
  },
  {
   "cell_type": "code",
   "execution_count": 8,
   "metadata": {},
   "outputs": [
    {
     "name": "stdout",
     "output_type": "stream",
     "text": [
      "+-----------------+\n",
      "| +-------------+ |\n",
      "| | +-+ +-+ +-+ | |\n",
      "| | | | | | | | | |\n",
      "| | +-+ +-+ +-+ | |\n",
      "| +-------------+ |\n",
      "| +-------------+ |\n",
      "| | +-+ +-+ +-+ | |\n",
      "| | | | | | | | | |\n",
      "| | +-+ +-+ +-+ | |\n",
      "| +-------------+ |\n",
      "| +-------------+ |\n",
      "| | +-+ +-+ +-+ | |\n",
      "| | | | | | | | | |\n",
      "| | +-+ +-+ +-+ | |\n",
      "| +-------------+ |\n",
      "+-----------------+\n",
      "\n"
     ]
    }
   ],
   "source": [
    "[| \n",
    "  [-3[]]\n",
    "  [-3[]]\n",
    "  [-3[]]\n",
    "]"
   ]
  },
  {
   "cell_type": "markdown",
   "metadata": {},
   "source": [
    "or simply"
   ]
  },
  {
   "cell_type": "code",
   "execution_count": 9,
   "metadata": {},
   "outputs": [
    {
     "name": "stdout",
     "output_type": "stream",
     "text": [
      "+-----------------+\n",
      "| +-------------+ |\n",
      "| | +-+ +-+ +-+ | |\n",
      "| | | | | | | | | |\n",
      "| | +-+ +-+ +-+ | |\n",
      "| +-------------+ |\n",
      "| +-------------+ |\n",
      "| | +-+ +-+ +-+ | |\n",
      "| | | | | | | | | |\n",
      "| | +-+ +-+ +-+ | |\n",
      "| +-------------+ |\n",
      "| +-------------+ |\n",
      "| | +-+ +-+ +-+ | |\n",
      "| | | | | | | | | |\n",
      "| | +-+ +-+ +-+ | |\n",
      "| +-------------+ |\n",
      "+-----------------+\n",
      "\n"
     ]
    }
   ],
   "source": [
    "[|3[-3[]]]"
   ]
  },
  {
   "cell_type": "markdown",
   "metadata": {},
   "source": [
    "See? Same thing."
   ]
  },
  {
   "cell_type": "markdown",
   "metadata": {},
   "source": [
    "how about this?"
   ]
  },
  {
   "cell_type": "code",
   "execution_count": 34,
   "metadata": {},
   "outputs": [
    {
     "name": "stdout",
     "output_type": "stream",
     "text": [
      "+---------------------------------------------------------------------+\n",
      "| +-----------------------------------------------------------------+ |\n",
      "| | +-+ +-+ +-+ +-+ +-+ +-+ +-+ +-+ +-+ +-+ +-+ +-+ +-+ +-+ +-+ +-+ | |\n",
      "| | | | | | | | | | | | | | | | | | | | | | | | | | | | | | | | | | | |\n",
      "| | +-+ +-+ +-+ +-+ +-+ +-+ +-+ +-+ +-+ +-+ +-+ +-+ +-+ +-+ +-+ +-+ | |\n",
      "| +-----------------------------------------------------------------+ |\n",
      "| +-----------------------------------------------------------------+ |\n",
      "| | +-----+ +-----+ +-----+ +-----+ +-----+ +-----+ +-----+ +-----+ | |\n",
      "| | | +-+ | | +-+ | | +-+ | | +-+ | | +-+ | | +-+ | | +-+ | | +-+ | | |\n",
      "| | | | | | | | | | | | | | | | | | | | | | | | | | | | | | | | | | | |\n",
      "| | | +-+ | | +-+ | | +-+ | | +-+ | | +-+ | | +-+ | | +-+ | | +-+ | | |\n",
      "| | +-----+ +-----+ +-----+ +-----+ +-----+ +-----+ +-----+ +-----+ | |\n",
      "| +-----------------------------------------------------------------+ |\n",
      "| +-----------------------------------------------------------------+ |\n",
      "| | +---------+ +---------+ +---------+ +---------+ +---------+ +-+ | |\n",
      "| | | +-----+ | | +-----+ | | +-----+ | | +-----+ | | +-----+ | | | | |\n",
      "| | | | +-+ | | | | +-+ | | | | +-+ | | | | +-+ | | | | +-+ | | +-+ | |\n",
      "| | | | | | | | | | | | | | | | | | | | | | | | | | | | | | | |     | |\n",
      "| | | | +-+ | | | | +-+ | | | | +-+ | | | | +-+ | | | | +-+ | |     | |\n",
      "| | | +-----+ | | +-----+ | | +-----+ | | +-----+ | | +-----+ |     | |\n",
      "| | +---------+ +---------+ +---------+ +---------+ +---------+     | |\n",
      "| +-----------------------------------------------------------------+ |\n",
      "+---------------------------------------------------------------------+\n",
      "\n"
     ]
    }
   ],
   "source": [
    "[| \n",
    "\n",
    "  [- 10[] 6[]]\n",
    "  [- 8[^2]]\n",
    "  [- 5[^3] []]\n",
    "\n",
    "]"
   ]
  },
  {
   "cell_type": "markdown",
   "metadata": {},
   "source": [
    "Missed one. \n",
    "\n",
    "This has great potential for a spiral maker..."
   ]
  },
  {
   "cell_type": "markdown",
   "metadata": {},
   "source": [
    "With applications in multiplication, addition, probably even modulo math."
   ]
  },
  {
   "cell_type": "markdown",
   "metadata": {},
   "source": [
    "... this is meant as an interactive notebook."
   ]
  }
 ],
 "metadata": {
  "kernelspec": {
   "display_name": "Box",
   "language": "text",
   "name": "box"
  },
  "language_info": {
   "file_extension": ".box",
   "mimetype": "text/plain",
   "name": "The Box Language"
  }
 },
 "nbformat": 4,
 "nbformat_minor": 4
}
